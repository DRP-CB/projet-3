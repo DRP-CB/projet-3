{
 "cells": [
  {
   "cell_type": "markdown",
   "id": "7851cb1d-f364-47b0-96e7-ddb0d14ce9b0",
   "metadata": {},
   "source": [
    "### Objectif : atteindre une neutralité carbone d'ici 2050\n",
    "Nous nous intéressons aux **émissions** des **batiments non destinés à l'habitation**."
   ]
  },
  {
   "cell_type": "markdown",
   "id": "1752de5f-d154-412e-859d-c598467e2dc1",
   "metadata": {},
   "source": [
    "La problématique : Des relevés minutieux des émissions ont été faits mais sont couteux à réaliser"
   ]
  },
  {
   "cell_type": "markdown",
   "id": "2d701733-d4cc-429b-9233-1d22e5e263a1",
   "metadata": {},
   "source": [
    "### L'objectif :\n",
    "- prédire les émissions de CO2\n",
    "- prédire la consommation totale d'énergie"
   ]
  },
  {
   "cell_type": "markdown",
   "id": "9862d914-f675-4ded-8272-d4e20d6d45b1",
   "metadata": {},
   "source": [
    "   -> Pour des batiments où la mesure n'a pas encore été faite"
   ]
  },
  {
   "cell_type": "markdown",
   "id": "51780b72-7846-41ca-b2d6-160ee7b40734",
   "metadata": {},
   "source": [
    "Evaluer l'intérêt de l'energy star score pour la prédiction d'émissions carbone\n",
    "* tenter de trouver une méthode alternative car ce score est fastidieux à calculer"
   ]
  },
  {
   "cell_type": "markdown",
   "id": "f893da29-4b13-469d-ac92-cd3456ac8a1b",
   "metadata": {},
   "source": [
    "### Objectifs à prendre en compte :\n",
    "- se passer des relevés de consommation annuels, utiliser les caractéristiques intrinsèques des batiments.\n",
    "- appliquer des transformations simples aux variables (norm / log) et feature engineering comme exploiter une addresse\n",
    "- mettre en place une selection rigoureuse d'algorithmes"
   ]
  },
  {
   "cell_type": "code",
   "execution_count": 1,
   "id": "738747b2-3b12-41c5-9e33-a9bc5d6bd234",
   "metadata": {},
   "outputs": [],
   "source": [
    "import pandas as pd\n",
    "import numpy as np\n",
    "import matplotlib.pyplot as plt\n",
    "import seaborn as sns\n",
    "import re\n",
    "import json\n",
    "from sklearn.impute import KNNImputer"
   ]
  },
  {
   "cell_type": "code",
   "execution_count": 2,
   "id": "aa6d44a0-d830-4801-853d-54833387d1c6",
   "metadata": {},
   "outputs": [],
   "source": [
    "data_2015 = pd.read_csv('2015-building-energy-benchmarking.csv')\n",
    "data_2016 = pd.read_csv('2016-building-energy-benchmarking.csv')"
   ]
  },
  {
   "cell_type": "code",
   "execution_count": 3,
   "id": "8fc3bc48-0f33-4503-9d0f-5aaa3b64d9c9",
   "metadata": {},
   "outputs": [
    {
     "data": {
      "text/plain": [
       "(3340, 47)"
      ]
     },
     "execution_count": 3,
     "metadata": {},
     "output_type": "execute_result"
    }
   ],
   "source": [
    "data_2015.shape"
   ]
  },
  {
   "cell_type": "code",
   "execution_count": 4,
   "id": "055c2bce-3175-4a93-b80e-867e2c60810e",
   "metadata": {},
   "outputs": [
    {
     "data": {
      "text/plain": [
       "(3376, 46)"
      ]
     },
     "execution_count": 4,
     "metadata": {},
     "output_type": "execute_result"
    }
   ],
   "source": [
    "data_2016.shape"
   ]
  },
  {
   "cell_type": "markdown",
   "id": "0094f18b-a00c-4c38-b498-e6ff626b3023",
   "metadata": {},
   "source": [
    "## Fusion des jeux de données \n",
    "Nous allons commencer par étudier les différences entre les deux années de mesure afin de construire un seul dataframe prenant en compte 2015 et 2016."
   ]
  },
  {
   "cell_type": "code",
   "execution_count": 5,
   "id": "e7c2bd68-4014-4ec2-8035-daf6b8a531ab",
   "metadata": {},
   "outputs": [],
   "source": [
    "def compare_df():\n",
    "    colUniques2015 = data_2015.columns[~data_2015.columns.isin(data_2016)]\n",
    "    colUniques2016 = data_2016.columns[~data_2016.columns.isin(data_2015)]\n",
    "    n_incompatibles = len(colUniques2015) + len(colUniques2016)\n",
    "\n",
    "    print(f'Il reste {n_incompatibles} colonnes incompatibles entre les jeux de données.')\n",
    "    print(\"__________________ \\n\")\n",
    "    print(\"Colonnes présentes en 2015 et absentes en 2016: \\n\")\n",
    "    print(colUniques2015)\n",
    "    print(\"__________________ \\n\")\n",
    "    print(\"Colonnes présentes en 2016 et absentes en 2015: \\n\")\n",
    "    print(colUniques2016,'\\n')\n",
    "    print(\"__________________\")\n"
   ]
  },
  {
   "cell_type": "code",
   "execution_count": 6,
   "id": "4a66a543-0702-4732-9981-36b481a67948",
   "metadata": {},
   "outputs": [
    {
     "name": "stdout",
     "output_type": "stream",
     "text": [
      "Il reste 19 colonnes incompatibles entre les jeux de données.\n",
      "__________________ \n",
      "\n",
      "Colonnes présentes en 2015 et absentes en 2016: \n",
      "\n",
      "Index(['Location', 'OtherFuelUse(kBtu)', 'GHGEmissions(MetricTonsCO2e)',\n",
      "       'GHGEmissionsIntensity(kgCO2e/ft2)', 'Comment', '2010 Census Tracts',\n",
      "       'Seattle Police Department Micro Community Policing Plan Areas',\n",
      "       'City Council Districts', 'SPD Beats', 'Zip Codes'],\n",
      "      dtype='object')\n",
      "__________________ \n",
      "\n",
      "Colonnes présentes en 2016 et absentes en 2015: \n",
      "\n",
      "Index(['Address', 'City', 'State', 'ZipCode', 'Latitude', 'Longitude',\n",
      "       'Comments', 'TotalGHGEmissions', 'GHGEmissionsIntensity'],\n",
      "      dtype='object') \n",
      "\n",
      "__________________\n"
     ]
    }
   ],
   "source": [
    "compare_df()"
   ]
  },
  {
   "cell_type": "markdown",
   "id": "ed1a2b5e-a3c1-494e-abfa-83a8e764e0d4",
   "metadata": {},
   "source": [
    "On peut observer que certaines colonnes parlent de la même chose mais avec un nom légèrement différent par exemple : \n",
    "* GHGEmissions(MetricTonsCO2e) / TotalGHGEmissions\n",
    "* Comment / Comments "
   ]
  },
  {
   "cell_type": "markdown",
   "id": "27b077e7-4c40-44cf-a0ec-8475bbb04aec",
   "metadata": {},
   "source": [
    "Ou encore un formatage différent :"
   ]
  },
  {
   "cell_type": "markdown",
   "id": "9c070e73-d38d-4d22-a07f-1c752393bc27",
   "metadata": {},
   "source": [
    "En 2015 les informations de localisation sont toutes contenues en une variable."
   ]
  },
  {
   "cell_type": "code",
   "execution_count": 7,
   "id": "83c3cc9c-eb9f-438d-a628-15109adda9f1",
   "metadata": {},
   "outputs": [
    {
     "data": {
      "text/plain": [
       "'{\\'latitude\\': \\'47.61219025\\', \\'longitude\\': \\'-122.33799744\\', \\'human_address\\': \\'{\"address\": \"405 OLIVE WAY\", \"city\": \"SEATTLE\", \"state\": \"WA\", \"zip\": \"98101\"}\\'}'"
      ]
     },
     "execution_count": 7,
     "metadata": {},
     "output_type": "execute_result"
    }
   ],
   "source": [
    "data_2015['Location'][0]"
   ]
  },
  {
   "cell_type": "markdown",
   "id": "38f86420-287d-410c-b3ea-eda2edd4ff45",
   "metadata": {},
   "source": [
    "En 2016 elles sont dans des colonnes séparées."
   ]
  },
  {
   "cell_type": "code",
   "execution_count": 8,
   "id": "1641f992-c87a-496c-95b1-112ed732c127",
   "metadata": {},
   "outputs": [
    {
     "name": "stdout",
     "output_type": "stream",
     "text": [
      "latitude = 47.6122\n",
      "ville = Seattle\n",
      "Adresse = 405 Olive way\n",
      "Code = 98101.0\n"
     ]
    }
   ],
   "source": [
    "print('latitude =',data_2016['Latitude'][0])\n",
    "print('ville =',data_2016['City'][0])\n",
    "print('Adresse =',data_2016['Address'][0])\n",
    "print(\"Code =\",data_2016['ZipCode'][0])"
   ]
  },
  {
   "cell_type": "markdown",
   "id": "fd05e661-a620-46c5-b5d9-fe2d5372fb3d",
   "metadata": {},
   "source": [
    "* Nous allons commencer par récupérer ces informations relatives à l'emplacement d'un batiment depuis ce format string"
   ]
  },
  {
   "cell_type": "markdown",
   "id": "31727486-1800-4b60-9b84-8329005f2118",
   "metadata": {},
   "source": [
    "### Extraction des informations positionnelles de la colonne 'Location'"
   ]
  },
  {
   "cell_type": "markdown",
   "id": "f768d4d9-20c0-4f96-bf87-4810847c2075",
   "metadata": {},
   "source": [
    "On peut observer qu'il y a de la variabilité dans le 'zipcode'"
   ]
  },
  {
   "cell_type": "code",
   "execution_count": 9,
   "id": "e1473280-f6b4-4ef0-b8ec-7ef29ce271e2",
   "metadata": {},
   "outputs": [
    {
     "data": {
      "text/plain": [
       "array([98101., 98121., 98104., 98154., 98118., 98105., 98112., 98125.,\n",
       "       98109., 98070., 98108., 98199., 98115., 98107., 98144., 98103.,\n",
       "       98119., 98136., 98122., 98126., 98133., 98146., 98033., 98106.,\n",
       "       98111., 98134., 98117., 98116., 98191., 98164., 98195., 98185.,\n",
       "       98181., 98102., 98168., 98155., 98006., 98124., 98053., 98012.,\n",
       "       98013., 98028., 98178., 98114., 98127., 98165., 98011., 98198.,\n",
       "       98113., 98040., 98204., 98177., 98020., 98272., 98145.,    nan])"
      ]
     },
     "execution_count": 9,
     "metadata": {},
     "output_type": "execute_result"
    }
   ],
   "source": [
    "data_2016['ZipCode'].unique()"
   ]
  },
  {
   "cell_type": "markdown",
   "id": "442da716-2bb8-4ab6-9ee8-8f9181b46d47",
   "metadata": {},
   "source": [
    "En revanche, conformément à nos attentes, il n'y a qu'une seule ville dans un seul état ce qui rend ces colonnes inutiles."
   ]
  },
  {
   "cell_type": "code",
   "execution_count": 10,
   "id": "891af90d-ae4b-43bd-9d99-0187e8693f1f",
   "metadata": {},
   "outputs": [
    {
     "data": {
      "text/plain": [
       "array(['Seattle'], dtype=object)"
      ]
     },
     "execution_count": 10,
     "metadata": {},
     "output_type": "execute_result"
    }
   ],
   "source": [
    "data_2016['City'].unique()"
   ]
  },
  {
   "cell_type": "code",
   "execution_count": 11,
   "id": "da4a7797-4ac6-4e2d-910a-7b5549a33296",
   "metadata": {},
   "outputs": [
    {
     "data": {
      "text/plain": [
       "array(['WA'], dtype=object)"
      ]
     },
     "execution_count": 11,
     "metadata": {},
     "output_type": "execute_result"
    }
   ],
   "source": [
    "data_2016['State'].unique()"
   ]
  },
  {
   "cell_type": "markdown",
   "id": "3f3817ae-7131-4134-8e0e-0bc6ad93efe9",
   "metadata": {},
   "source": [
    "* Pas besoin de récupérer la ville et l'état: ils prennent toujours la même valeur."
   ]
  },
  {
   "cell_type": "markdown",
   "id": "453fbb97-1782-40a0-b822-df7a8de9402c",
   "metadata": {},
   "source": [
    "Nous construisons donc des patterns regex pour extraire seulement des informations capables de différencier les lieux."
   ]
  },
  {
   "cell_type": "code",
   "execution_count": 12,
   "id": "d7d2ba80-4173-4759-98b8-7eaeb0343c6d",
   "metadata": {},
   "outputs": [
    {
     "data": {
      "text/plain": [
       "'{\\'latitude\\': \\'47.61219025\\', \\'longitude\\': \\'-122.33799744\\', \\'human_address\\': \\'{\"address\": \"405 OLIVE WAY\", \"city\": \"SEATTLE\", \"state\": \"WA\", \"zip\": \"98101\"}\\'}'"
      ]
     },
     "execution_count": 12,
     "metadata": {},
     "output_type": "execute_result"
    }
   ],
   "source": [
    "data_2015['Location'][0]"
   ]
  },
  {
   "cell_type": "code",
   "execution_count": 13,
   "id": "61809eb3-a6eb-48a4-9036-6dbb81ab8b0c",
   "metadata": {},
   "outputs": [],
   "source": [
    "latitude_reg = re.compile(\"\\'latitude\\': \\'(-?\\d+.\\d+)\")\n",
    "longitude_reg = re.compile(\"\\'longitude\\': \\'(-?\\d+.\\d+)\")\n",
    "address_reg = re.compile('\"address\": \"(.*)\", \"c')\n",
    "num_voie_reg = re.compile('\\d+')\n",
    "voie_reg = re.compile(' .*')\n",
    "zipcode_reg = re.compile('\"zip\": \"(\\d+)')"
   ]
  },
  {
   "cell_type": "code",
   "execution_count": 14,
   "id": "ec450eff-81c9-4503-b2b2-dcda787ce632",
   "metadata": {},
   "outputs": [],
   "source": [
    "# ces deux fonctions nous permetttent de partionner les informations contenues dans la string 'Location'\n",
    "\n",
    "# première extraction des différentes informations\n",
    "def extract_location(string):\n",
    "    latitude  = re.findall(latitude_reg,string)[0]\n",
    "    longitude = re.findall(longitude_reg,string)[0]\n",
    "    address   = re.findall(address_reg,string)[0]\n",
    "    num_voie, voie  = parse_address(address)\n",
    "    zipcode = re.findall(zipcode_reg,string)[0]\n",
    "    return latitude, longitude, num_voie, voie, zipcode\n",
    "\n",
    "# découpage plus précis de l'addresse en la voie et son numéro\n",
    "def parse_address(address):\n",
    "    num_voie  = re.findall(num_voie_reg,address)[0]\n",
    "    voie      = re.findall(voie_reg,address)[0].lstrip()\n",
    "    return num_voie,voie"
   ]
  },
  {
   "cell_type": "markdown",
   "id": "4bc59507-406a-422c-9b54-2c2b5c1b2701",
   "metadata": {},
   "source": [
    "Nous découpons l'addresse en la rue et le numéro car sans cette scission, chaque adresse serait unique et aucune relation entre addresse et consommation energétique ne pourrait être repérée.\n",
    "- Les activités similaires ont souvent tendance à se regrouper sur des axes routiers (magasins, concessions, bureaux)\n",
    "- Il peut être intéressant de voir si certaines voies caractéristiques d'un certain type de batiment sont plus fortement liées à des tendances de consommation énergétique / émission de gaz à effet de serre."
   ]
  },
  {
   "cell_type": "code",
   "execution_count": 15,
   "id": "f97af656-9813-49c2-9557-4cc0621d8f5c",
   "metadata": {},
   "outputs": [
    {
     "data": {
      "text/plain": [
       "('47.61219025', '-122.33799744', '405', 'OLIVE WAY', '98101')"
      ]
     },
     "execution_count": 15,
     "metadata": {},
     "output_type": "execute_result"
    }
   ],
   "source": [
    "extract_location(data_2015['Location'][0])"
   ]
  },
  {
   "cell_type": "code",
   "execution_count": 16,
   "id": "5d0a083a-e571-47c4-ace3-e05026aa7c57",
   "metadata": {},
   "outputs": [],
   "source": [
    "Latitude = []\n",
    "Longitude = []\n",
    "numVoie = []\n",
    "Voie = []\n",
    "ZipCode = []\n",
    "\n",
    "for location in data_2015['Location']:\n",
    "    latitude,longitude,num_voie,voie,zipcode = extract_location(location)\n",
    "    Latitude.append(float(latitude))\n",
    "    Longitude.append(float(longitude))\n",
    "    numVoie.append(int(num_voie))\n",
    "    Voie.append(voie)\n",
    "    ZipCode.append(int(zipcode))"
   ]
  },
  {
   "cell_type": "markdown",
   "id": "58fc75ea-bda0-4b1f-a191-689933c82c7f",
   "metadata": {},
   "source": [
    "Nous créons de nouvelles colonnes dans notre jeu de données en utilisant ces listes."
   ]
  },
  {
   "cell_type": "code",
   "execution_count": 17,
   "id": "89216f35-296d-4f5d-8909-57b03c674806",
   "metadata": {},
   "outputs": [],
   "source": [
    "data_2015['Latitude'] = Latitude\n",
    "data_2015['Longitude'] = Longitude\n",
    "data_2015['numVoie'] = numVoie\n",
    "data_2015['Voie'] = Voie\n",
    "data_2015['ZipCode'] = ZipCode"
   ]
  },
  {
   "cell_type": "code",
   "execution_count": 18,
   "id": "b3370a53-f33e-4bea-8590-6c83f977259a",
   "metadata": {},
   "outputs": [
    {
     "name": "stdout",
     "output_type": "stream",
     "text": [
      "Il reste 18 colonnes incompatibles entre les jeux de données.\n",
      "__________________ \n",
      "\n",
      "Colonnes présentes en 2015 et absentes en 2016: \n",
      "\n",
      "Index(['Location', 'OtherFuelUse(kBtu)', 'GHGEmissions(MetricTonsCO2e)',\n",
      "       'GHGEmissionsIntensity(kgCO2e/ft2)', 'Comment', '2010 Census Tracts',\n",
      "       'Seattle Police Department Micro Community Policing Plan Areas',\n",
      "       'City Council Districts', 'SPD Beats', 'Zip Codes', 'numVoie', 'Voie'],\n",
      "      dtype='object')\n",
      "__________________ \n",
      "\n",
      "Colonnes présentes en 2016 et absentes en 2015: \n",
      "\n",
      "Index(['Address', 'City', 'State', 'Comments', 'TotalGHGEmissions',\n",
      "       'GHGEmissionsIntensity'],\n",
      "      dtype='object') \n",
      "\n",
      "__________________\n"
     ]
    }
   ],
   "source": [
    "compare_df()"
   ]
  },
  {
   "cell_type": "markdown",
   "id": "1bda9bbc-7145-4527-aeea-d46e9dcfc941",
   "metadata": {
    "tags": []
   },
   "source": [
    "Nous avons réduit le nombre de colonnes incompatibles mais nous en avons ajouté de nouvelles en découpant l'addresse en un numéro et une rue."
   ]
  },
  {
   "cell_type": "markdown",
   "id": "882832c2-2c71-42cb-8d2e-5035f2e99102",
   "metadata": {
    "tags": []
   },
   "source": [
    "#### Découpage de l'addresse pour 2016"
   ]
  },
  {
   "cell_type": "code",
   "execution_count": 19,
   "id": "ce843642-698f-47f1-84e0-c9f89d1342ef",
   "metadata": {},
   "outputs": [],
   "source": [
    "numVoie = []\n",
    "Voie = []\n",
    "for address in data_2016['Address']:\n",
    "    num_voie, voie = parse_address(address)\n",
    "    numVoie.append(int(num_voie))\n",
    "    Voie.append(voie)"
   ]
  },
  {
   "cell_type": "code",
   "execution_count": 20,
   "id": "7e1e7625-8d72-42e6-8c8c-87ec0300c7e7",
   "metadata": {},
   "outputs": [],
   "source": [
    "data_2016['numVoie'] = numVoie\n",
    "data_2016['Voie'] = Voie"
   ]
  },
  {
   "cell_type": "code",
   "execution_count": 21,
   "id": "6b40429f-614c-4b89-aa8b-d97286f9ff00",
   "metadata": {},
   "outputs": [],
   "source": [
    "data_2015.drop(['Location',\n",
    "                'Zip Codes',\n",
    "                'Comment'],axis=1,inplace=True)\n",
    "data_2016.drop(['Address',\n",
    "                'City',\n",
    "                'State',\n",
    "                'Comments'],axis=1,inplace=True)"
   ]
  },
  {
   "cell_type": "code",
   "execution_count": 22,
   "id": "3e024454-1fe0-4783-90ab-b222a2e8d8de",
   "metadata": {},
   "outputs": [
    {
     "name": "stdout",
     "output_type": "stream",
     "text": [
      "Il reste 9 colonnes incompatibles entre les jeux de données.\n",
      "__________________ \n",
      "\n",
      "Colonnes présentes en 2015 et absentes en 2016: \n",
      "\n",
      "Index(['OtherFuelUse(kBtu)', 'GHGEmissions(MetricTonsCO2e)',\n",
      "       'GHGEmissionsIntensity(kgCO2e/ft2)', '2010 Census Tracts',\n",
      "       'Seattle Police Department Micro Community Policing Plan Areas',\n",
      "       'City Council Districts', 'SPD Beats'],\n",
      "      dtype='object')\n",
      "__________________ \n",
      "\n",
      "Colonnes présentes en 2016 et absentes en 2015: \n",
      "\n",
      "Index(['TotalGHGEmissions', 'GHGEmissionsIntensity'], dtype='object') \n",
      "\n",
      "__________________\n"
     ]
    }
   ],
   "source": [
    "compare_df()"
   ]
  },
  {
   "cell_type": "markdown",
   "id": "0776ec7d-95b4-49ab-bde3-3947b59b7cf9",
   "metadata": {},
   "source": [
    "### Comparaison des colonnes semblables aux deux dataframes\n",
    "Nous allons maintenant comparer les colonnes aux noms similaires pour voir si elles mesurent bien la même chose."
   ]
  },
  {
   "cell_type": "code",
   "execution_count": 23,
   "id": "240e9c9b-1d12-474a-9ad6-d65575622e74",
   "metadata": {},
   "outputs": [],
   "source": [
    "# Cette fonction nous permet de calculer et visualiser des statistiques nous permettant de juger de la similitude des données \n",
    "def compare_vars(var1,var2):\n",
    "        plot_data = list([data_2015[var1],\n",
    "                          data_2016[var2]])\n",
    "        annee = list([2015,2016])\n",
    "        fig, ax = plt.subplots(2,2,\n",
    "                           figsize=(15,5),\n",
    "                           gridspec_kw={'width_ratios':[6,1]}) \n",
    "        \n",
    "        title = plt.suptitle('Comparaison des variables entre 2015 et 2016',\n",
    "                fontsize=20)\n",
    "        title.set_position([0.55,1.05])\n",
    "        ax[0,0].set_title('Distribution',fontsize=15)\n",
    "        ax[0,1].set_title('Statistiques descriptives',fontsize=15)\n",
    "        plt.subplots_adjust(hspace=0.5)\n",
    "\n",
    "        for i in range(0,len(plot_data)):\n",
    "            sns.boxplot(ax = ax[i,0],x=plot_data[i])\n",
    "            mean = np.round(plot_data[i].mean(),2)\n",
    "            median = np.round(plot_data[i].median(),2)\n",
    "            std = np.round(plot_data[i].std(),2)\n",
    "            ax[i,1].axis('off')\n",
    "            ax[i,1].text(s=f'année = {annee[i]}',x=-0.35,y=0.85)\n",
    "            ax[i,1].text(s=f'moyenne = {mean}',x=-0.35,y=0.68)\n",
    "            ax[i,1].text(s=f'écart-type = {std}',x=-0.35,y=0.50)\n",
    "            ax[i,1].text(s=f'médiane = {median}',x=-0.35,y=0.30)"
   ]
  },
  {
   "cell_type": "markdown",
   "id": "200a3368-a821-4a1e-b9fb-f4f6779ac5df",
   "metadata": {},
   "source": [
    "#### GHGEmissions(MetricTonsCO2e) / TotalGHGEmissions"
   ]
  },
  {
   "cell_type": "code",
   "execution_count": 24,
   "id": "cf6ba5fb-f642-47ce-b68a-d954872c1e55",
   "metadata": {},
   "outputs": [
    {
     "data": {
      "image/png": "[encoded data removed]",
      "text/plain": [
       "<Figure size 1080x360 with 4 Axes>"
      ]
     },
     "metadata": {
      "needs_background": "light"
     },
     "output_type": "display_data"
    }
   ],
   "source": [
    "compare_vars('GHGEmissions(MetricTonsCO2e)','TotalGHGEmissions')"
   ]
  },
  {
   "cell_type": "markdown",
   "id": "51871440-da73-42d9-bf62-28726d5aaa98",
   "metadata": {},
   "source": [
    "Bien que l'on observe une légère augmentation d'une année sur l'autre, il semble bien que ces deux variables soient mesurées sur la même échelle, de plus leur distributions se ressemblent."
   ]
  },
  {
   "cell_type": "markdown",
   "id": "3f92334e-fcbd-43fe-aa56-dacdcd73a911",
   "metadata": {},
   "source": [
    "On donne un le même nom aux variables similaires"
   ]
  },
  {
   "cell_type": "code",
   "execution_count": 25,
   "id": "89b05788-aad1-410b-a867-5eaedc560976",
   "metadata": {},
   "outputs": [],
   "source": [
    "data_2015.rename(columns={'GHGEmissions(MetricTonsCO2e)':'TotalGHGEmissions'},inplace=True)"
   ]
  },
  {
   "cell_type": "markdown",
   "id": "f7ac4c61-24c8-4dcb-aa45-64946333f43e",
   "metadata": {},
   "source": [
    "### GHGEmissionsIntensity(kgCO2e/ft2) / GHGEmissionsIntensity"
   ]
  },
  {
   "cell_type": "code",
   "execution_count": 26,
   "id": "e4f1d981-0d85-4f33-a494-b6d3acdb3846",
   "metadata": {},
   "outputs": [
    {
     "data": {
      "image/png": "[encoded data removed]",
      "text/plain": [
       "<Figure size 1080x360 with 4 Axes>"
      ]
     },
     "metadata": {
      "needs_background": "light"
     },
     "output_type": "display_data"
    }
   ],
   "source": [
    "compare_vars('GHGEmissionsIntensity(kgCO2e/ft2)','GHGEmissionsIntensity')"
   ]
  },
  {
   "cell_type": "markdown",
   "id": "4181604d-df37-481d-9754-843806db56b6",
   "metadata": {},
   "source": [
    "Ces deux variables sont aussi similaires."
   ]
  },
  {
   "cell_type": "code",
   "execution_count": 27,
   "id": "b2a44ced-ede5-4c71-bda0-5cb7375bc735",
   "metadata": {},
   "outputs": [],
   "source": [
    "data_2015.rename(columns={'GHGEmissionsIntensity(kgCO2e/ft2)': 'GHGEmissionsIntensity'},inplace=True)"
   ]
  },
  {
   "cell_type": "code",
   "execution_count": 28,
   "id": "5496974b-52e2-4c1c-8e64-04744076a1a1",
   "metadata": {},
   "outputs": [
    {
     "name": "stdout",
     "output_type": "stream",
     "text": [
      "Il reste 5 colonnes incompatibles entre les jeux de données.\n",
      "__________________ \n",
      "\n",
      "Colonnes présentes en 2015 et absentes en 2016: \n",
      "\n",
      "Index(['OtherFuelUse(kBtu)', '2010 Census Tracts',\n",
      "       'Seattle Police Department Micro Community Policing Plan Areas',\n",
      "       'City Council Districts', 'SPD Beats'],\n",
      "      dtype='object')\n",
      "__________________ \n",
      "\n",
      "Colonnes présentes en 2016 et absentes en 2015: \n",
      "\n",
      "Index([], dtype='object') \n",
      "\n",
      "__________________\n"
     ]
    }
   ],
   "source": [
    "compare_df()"
   ]
  },
  {
   "cell_type": "markdown",
   "id": "9a1d1c51-db61-4885-906f-0da21f244a91",
   "metadata": {},
   "source": [
    "2015 semble contenir des mesures qui n'ont pas été poursuivies en 2016.\n",
    "- La ville de Seattle a jugé qu'il n'était plus utile de prendre en compte ces données, nous allons suivre leur décision."
   ]
  },
  {
   "cell_type": "code",
   "execution_count": 29,
   "id": "5eda2ac6-9367-4f29-b57b-4eb57c69fdc8",
   "metadata": {},
   "outputs": [],
   "source": [
    "data_2015.drop(data_2015.columns[~data_2015.columns.isin(data_2016)],\n",
    "          axis=1,\n",
    "          inplace=True)"
   ]
  },
  {
   "cell_type": "code",
   "execution_count": 30,
   "id": "7ee73581-d70d-44a4-ba34-680c33dedfb0",
   "metadata": {},
   "outputs": [
    {
     "name": "stdout",
     "output_type": "stream",
     "text": [
      "Il reste 0 colonnes incompatibles entre les jeux de données.\n",
      "__________________ \n",
      "\n",
      "Colonnes présentes en 2015 et absentes en 2016: \n",
      "\n",
      "Index([], dtype='object')\n",
      "__________________ \n",
      "\n",
      "Colonnes présentes en 2016 et absentes en 2015: \n",
      "\n",
      "Index([], dtype='object') \n",
      "\n",
      "__________________\n"
     ]
    }
   ],
   "source": [
    "compare_df()"
   ]
  },
  {
   "cell_type": "markdown",
   "id": "69d0cc2c-f63c-47ea-9dc3-804b7b3bab09",
   "metadata": {},
   "source": [
    "Avant de pouvoir fusionner les dataframes nous devons organiser leur colonnes dans le même ordre"
   ]
  },
  {
   "cell_type": "code",
   "execution_count": 31,
   "id": "574997b9-a285-44e2-8caf-47a9128b5074",
   "metadata": {},
   "outputs": [],
   "source": [
    "data_2015 = data_2015.reindex(columns = data_2016.columns)"
   ]
  },
  {
   "cell_type": "markdown",
   "id": "58d1060e-e42d-4554-a0e7-0983ba10a4ef",
   "metadata": {},
   "source": [
    "Nous procédons maintenant à la fusion."
   ]
  },
  {
   "cell_type": "code",
   "execution_count": 32,
   "id": "3225134f-b69b-4a91-813f-30571b7375d0",
   "metadata": {},
   "outputs": [],
   "source": [
    "data = pd.concat([data_2015,data_2016])"
   ]
  },
  {
   "cell_type": "markdown",
   "id": "9802c6e4-41bf-4514-95dd-53ae4c4786c2",
   "metadata": {},
   "source": [
    "2015 et 2016 sont maintenant un seul et unique dataframe."
   ]
  },
  {
   "cell_type": "code",
   "execution_count": 33,
   "id": "1fc552d3-26b7-4cea-a3b5-c81009b00760",
   "metadata": {},
   "outputs": [
    {
     "data": {
      "text/plain": [
       "(6716, 44)"
      ]
     },
     "execution_count": 33,
     "metadata": {},
     "output_type": "execute_result"
    }
   ],
   "source": [
    "data.shape"
   ]
  },
  {
   "cell_type": "markdown",
   "id": "d94133b0-578d-474f-ac96-05c8485ede90",
   "metadata": {},
   "source": [
    "### Suppression des batiments destinés à l'habitation\n",
    "Notre objectif est de prédire la consommation de batiments non destinés à l'habitation. Nous supprimons donc tous les batiments de type habitation."
   ]
  },
  {
   "cell_type": "markdown",
   "id": "a328c694-5565-43da-b673-fe242f69defd",
   "metadata": {},
   "source": [
    "Afin de déterminer les variables les plus susceptibles de répondre à notre question nous nous basons sur les métadonnées fournies avec le dataset"
   ]
  },
  {
   "cell_type": "code",
   "execution_count": 34,
   "id": "8657f7ee-76de-4627-b3df-4bfd84ca6734",
   "metadata": {},
   "outputs": [],
   "source": [
    "# lecture des métadonnées Json\n",
    "with open('socrata_metadata_2016-building-energy-benchmarking.json','r') as f:\n",
    "       metadata2016 =  json.loads(f.read())\n",
    "        \n",
    "with open('socrata_metadata_2015-building-energy-benchmarking.json','r') as f:\n",
    "       metadata2015 =  json.loads(f.read())"
   ]
  },
  {
   "cell_type": "code",
   "execution_count": 35,
   "id": "09a2675d-681f-4aa9-8226-6dd4ad9153b7",
   "metadata": {},
   "outputs": [],
   "source": [
    "# Les informations qui nous intéressent sont contenues dans l'entrée 'columns' de ce dictionnaire\n",
    "columns2015 = metadata2015['columns']\n",
    "columns2016 = metadata2016['columns']"
   ]
  },
  {
   "cell_type": "code",
   "execution_count": 36,
   "id": "cef48c19-3f85-4396-b70c-eb93fb7dfc8b",
   "metadata": {},
   "outputs": [],
   "source": [
    "# plus précisément, c'est le nom et la description de ces colonnes que l'on veut extraire\n",
    "name = []\n",
    "description = []\n",
    "\n",
    "for column in columns2015:\n",
    "    name.append(column.get('name'))\n",
    "    description.append(column.get('description'))\n",
    "    \n",
    "for column in columns2016:\n",
    "    name.append(column.get('name'))\n",
    "    description.append(column.get('description'))    "
   ]
  },
  {
   "cell_type": "code",
   "execution_count": 37,
   "id": "75620828-bee9-4398-abb9-6361e44039a4",
   "metadata": {},
   "outputs": [],
   "source": [
    "# On crée un dataframe pour les requêtes de description. \n",
    "explainedVars = pd.DataFrame({'name':name,'description':description})\n",
    "explainedVars.drop_duplicates(inplace=True)"
   ]
  },
  {
   "cell_type": "code",
   "execution_count": 38,
   "id": "8ba62211-34bd-4a9e-8fa4-108fa436d877",
   "metadata": {},
   "outputs": [],
   "source": [
    "def get_description(name):\n",
    "    description = explainedVars[explainedVars[\"name\"]==name]['description'].values\n",
    "    print(name,':\\n',description,'\\n_________________\\n')"
   ]
  },
  {
   "cell_type": "code",
   "execution_count": 39,
   "id": "afd8ae31-3424-413a-9984-2fe0a0ac25a6",
   "metadata": {},
   "outputs": [
    {
     "data": {
      "text/plain": [
       "Index(['OSEBuildingID', 'DataYear', 'BuildingType', 'PrimaryPropertyType',\n",
       "       'PropertyName', 'ZipCode', 'TaxParcelIdentificationNumber',\n",
       "       'CouncilDistrictCode', 'Neighborhood', 'Latitude', 'Longitude',\n",
       "       'YearBuilt', 'NumberofBuildings', 'NumberofFloors', 'PropertyGFATotal',\n",
       "       'PropertyGFAParking', 'PropertyGFABuilding(s)',\n",
       "       'ListOfAllPropertyUseTypes', 'LargestPropertyUseType',\n",
       "       'LargestPropertyUseTypeGFA', 'SecondLargestPropertyUseType',\n",
       "       'SecondLargestPropertyUseTypeGFA', 'ThirdLargestPropertyUseType',\n",
       "       'ThirdLargestPropertyUseTypeGFA', 'YearsENERGYSTARCertified',\n",
       "       'ENERGYSTARScore', 'SiteEUI(kBtu/sf)', 'SiteEUIWN(kBtu/sf)',\n",
       "       'SourceEUI(kBtu/sf)', 'SourceEUIWN(kBtu/sf)', 'SiteEnergyUse(kBtu)',\n",
       "       'SiteEnergyUseWN(kBtu)', 'SteamUse(kBtu)', 'Electricity(kWh)',\n",
       "       'Electricity(kBtu)', 'NaturalGas(therms)', 'NaturalGas(kBtu)',\n",
       "       'DefaultData', 'ComplianceStatus', 'Outlier', 'TotalGHGEmissions',\n",
       "       'GHGEmissionsIntensity', 'numVoie', 'Voie'],\n",
       "      dtype='object')"
      ]
     },
     "execution_count": 39,
     "metadata": {},
     "output_type": "execute_result"
    }
   ],
   "source": [
    "data.columns"
   ]
  },
  {
   "cell_type": "code",
   "execution_count": 40,
   "id": "28c38420-31f7-42f5-88f8-99936b290fb4",
   "metadata": {},
   "outputs": [
    {
     "name": "stdout",
     "output_type": "stream",
     "text": [
      "PrimaryPropertyType :\n",
      " ['The primary use of a property (e.g. office, retail store). Primary use is defined as a function that accounts for more than 50% of a property. This is the Property Type - EPA Calculated field from Portfolio Manager.'] \n",
      "_________________\n",
      "\n"
     ]
    }
   ],
   "source": [
    "get_description('PrimaryPropertyType')"
   ]
  },
  {
   "cell_type": "code",
   "execution_count": 41,
   "id": "898b8828-9bb7-4d52-933b-ade1bfcf1b16",
   "metadata": {},
   "outputs": [
    {
     "name": "stdout",
     "output_type": "stream",
     "text": [
      "LargestPropertyUseType :\n",
      " [None 'The largest use of a property (e.g. office, retail store) by GFA. '] \n",
      "_________________\n",
      "\n"
     ]
    }
   ],
   "source": [
    "get_description('LargestPropertyUseType')"
   ]
  },
  {
   "cell_type": "code",
   "execution_count": 42,
   "id": "095cd5a2-b5c8-4833-8f62-6f52c33c1cb3",
   "metadata": {},
   "outputs": [
    {
     "data": {
      "text/plain": [
       "array(['Hotel', 'Police Station', 'Other - Entertainment/Public Assembly',\n",
       "       'Multifamily Housing', nan, 'Library',\n",
       "       'Fitness Center/Health Club/Gym', 'Social/Meeting Hall',\n",
       "       'Courthouse', 'Other', 'K-12 School', 'College/University',\n",
       "       'Automobile Dealership', 'Office', 'Self-Storage Facility',\n",
       "       'Retail Store', 'Senior Care Community', 'Medical Office',\n",
       "       'Hospital (General Medical & Surgical)', 'Museum',\n",
       "       'Repair Services (Vehicle, Shoe, Locksmith, etc)',\n",
       "       'Other - Lodging/Residential', 'Residence Hall/Dormitory',\n",
       "       'Other/Specialty Hospital', 'Financial Office',\n",
       "       'Non-Refrigerated Warehouse', 'Distribution Center', 'Parking',\n",
       "       'Worship Facility', 'Laboratory', 'Supermarket/Grocery Store',\n",
       "       'Convention Center', 'Urgent Care/Clinic/Other Outpatient',\n",
       "       'Other - Services', 'Strip Mall', 'Wholesale Club/Supercenter',\n",
       "       'Refrigerated Warehouse', 'Other - Recreation', 'Lifestyle Center',\n",
       "       'Other - Public Services', 'Data Center', 'Other - Mall',\n",
       "       'Manufacturing/Industrial Plant', 'Restaurant',\n",
       "       'Other - Education', 'Fire Station', 'Performing Arts',\n",
       "       'Residential Care Facility', 'Bank Branch',\n",
       "       'Other - Restaurant/Bar', 'Food Service', 'Adult Education',\n",
       "       'Other - Utility', 'Movie Theater',\n",
       "       'Outpatient Rehabilitation/Physical Therapy',\n",
       "       'Personal Services (Health/Beauty, Dry Cleaning, etc)',\n",
       "       'Pre-school/Daycare', 'Prison/Incarceration'], dtype=object)"
      ]
     },
     "execution_count": 42,
     "metadata": {},
     "output_type": "execute_result"
    }
   ],
   "source": [
    "data['LargestPropertyUseType'].unique()"
   ]
  },
  {
   "cell_type": "code",
   "execution_count": 43,
   "id": "547a025f-8541-4c4e-9fa0-2b755f52d5e3",
   "metadata": {},
   "outputs": [
    {
     "data": {
      "text/plain": [
       "array(['Hotel', 'Other', 'Mid-Rise Multifamily', 'Mixed Use Property',\n",
       "       'K-12 School', 'College/University', 'Small- and Mid-Sized Office',\n",
       "       'Self-Storage Facility\\n', 'Distribution Center', 'Large Office',\n",
       "       'Retail Store', 'Low-Rise Multifamily', 'Senior Care Community',\n",
       "       'Medical Office', 'Hospital', 'Residence Hall/Dormitory',\n",
       "       'Non-Refrigerated Warehouse', 'Distribution Center\\n',\n",
       "       'SPS-District K-12', 'Worship Facility',\n",
       "       'Supermarket/Grocery Store', 'Laboratory', 'Self-Storage Facility',\n",
       "       'Refrigerated Warehouse', 'High-Rise Multifamily', 'Restaurant\\n',\n",
       "       'Restaurant', 'University', 'Warehouse', 'Residence Hall',\n",
       "       'Supermarket / Grocery Store', 'Office'], dtype=object)"
      ]
     },
     "execution_count": 43,
     "metadata": {},
     "output_type": "execute_result"
    }
   ],
   "source": [
    "data['PrimaryPropertyType'].unique()"
   ]
  },
  {
   "cell_type": "code",
   "execution_count": 44,
   "id": "bc9aa202-62dc-4389-a9b3-9dc09d79beae",
   "metadata": {},
   "outputs": [
    {
     "data": {
      "text/plain": [
       "array(['NonResidential', 'Nonresidential COS', 'Multifamily MR (5-9)',\n",
       "       'SPS-District K-12', 'Multifamily LR (1-4)', 'Campus',\n",
       "       'Multifamily HR (10+)', 'Nonresidential WA'], dtype=object)"
      ]
     },
     "execution_count": 44,
     "metadata": {},
     "output_type": "execute_result"
    }
   ],
   "source": [
    "data['BuildingType'].unique()"
   ]
  },
  {
   "cell_type": "markdown",
   "id": "173bac88-d181-482b-8bf8-cde04215075f",
   "metadata": {},
   "source": [
    "La colonne \"BuildingType\" contient précisément l'information que nous recherchons."
   ]
  },
  {
   "cell_type": "code",
   "execution_count": 45,
   "id": "3d94a463-23df-47ab-912d-054f5cb05a11",
   "metadata": {},
   "outputs": [],
   "source": [
    "habitation_reg = 'NonResiden'"
   ]
  },
  {
   "cell_type": "code",
   "execution_count": 46,
   "id": "07bacfb8-7ff0-4210-bbb1-c429de730ef7",
   "metadata": {},
   "outputs": [],
   "source": [
    "mask = data['BuildingType'].str.contains(habitation_reg,case=False)\n",
    "data = data[mask]"
   ]
  },
  {
   "cell_type": "code",
   "execution_count": 47,
   "id": "c61e1e15-a48a-4156-996b-9cb92e2ae259",
   "metadata": {},
   "outputs": [
    {
     "data": {
      "text/plain": [
       "(3075, 44)"
      ]
     },
     "execution_count": 47,
     "metadata": {},
     "output_type": "execute_result"
    }
   ],
   "source": [
    "data.shape"
   ]
  },
  {
   "cell_type": "markdown",
   "id": "22ef63d5-ddf1-4553-9fcf-7f2a36665fa1",
   "metadata": {},
   "source": [
    "### Obtention des données les plus récentes\n",
    "Afin d'éviter trop de redondance dans les données nous ne gardons les valeurs 2015 que des batiments qui ne sont plus présents en 2016."
   ]
  },
  {
   "cell_type": "code",
   "execution_count": 48,
   "id": "afd1348f-5341-4e6f-a1af-212abcdbb002",
   "metadata": {},
   "outputs": [],
   "source": [
    "# on regarde l'identifiant unique des batiments \n",
    "redondants = data['OSEBuildingID'].value_counts()\n",
    "# On récupère, séparément, l'index des batiments \n",
    "unique_index = redondants[redondants == 1].index # Les uniques \n",
    "doublons_index = redondants[redondants == 2].index # les doublons"
   ]
  },
  {
   "cell_type": "code",
   "execution_count": 49,
   "id": "67127014-b02e-4aff-bb6c-894620987161",
   "metadata": {},
   "outputs": [],
   "source": [
    "# on crée un dataframe de ces lignes de batiments uniques sur une année ou l'autre\n",
    "unique_lines = data[data['OSEBuildingID'].isin(unique_index)]\n",
    "# et nous faisons de même sur les doublons\n",
    "doublons_lines = data[data['OSEBuildingID'].isin(doublons_index)]"
   ]
  },
  {
   "cell_type": "code",
   "execution_count": 50,
   "id": "41173505-6b0c-49b5-9618-568bb060b4a3",
   "metadata": {},
   "outputs": [],
   "source": [
    "# on se débarasse de l'année 2015 dans les données qui ont été mesurées sur les deux années\n",
    "lines_2016 = doublons_lines[doublons_lines['DataYear'] == 2016]"
   ]
  },
  {
   "cell_type": "code",
   "execution_count": 51,
   "id": "4d342c98-95d7-4f99-ba7a-3c88fe72fe9f",
   "metadata": {},
   "outputs": [],
   "source": [
    "# enfin nous concaténons les deux dataframes \n",
    "data = pd.concat([unique_lines,lines_2016])"
   ]
  },
  {
   "cell_type": "code",
   "execution_count": 52,
   "id": "35c2a5a3-1553-4f17-a40e-c4d282f51667",
   "metadata": {},
   "outputs": [
    {
     "data": {
      "text/plain": [
       "(1575, 44)"
      ]
     },
     "execution_count": 52,
     "metadata": {},
     "output_type": "execute_result"
    }
   ],
   "source": [
    "data.shape"
   ]
  },
  {
   "cell_type": "markdown",
   "id": "371f6227-a154-4731-bd95-1bbfcbeb0c70",
   "metadata": {},
   "source": [
    "## Analyse métier\n",
    "Nous allons utiliser les métadonnées de ce dataset afin de déterminer les colonnes qui ont peu de chance d'apporter de l'information en plus"
   ]
  },
  {
   "cell_type": "code",
   "execution_count": 53,
   "id": "a2f48af9-268b-419e-8c46-ed474e18bb4c",
   "metadata": {},
   "outputs": [
    {
     "name": "stdout",
     "output_type": "stream",
     "text": [
      "OSEBuildingID :\n",
      " ['A unique identifier assigned to each property covered by the Seattle Benchmarking Ordinance for tracking and identification purposes.'] \n",
      "_________________\n",
      "\n",
      "DataYear :\n",
      " [None 'Calendar year (January-December) represented by each data record.'] \n",
      "_________________\n",
      "\n",
      "BuildingType :\n",
      " ['City of Seattle building type classification.'] \n",
      "_________________\n",
      "\n",
      "PrimaryPropertyType :\n",
      " ['The primary use of a property (e.g. office, retail store). Primary use is defined as a function that accounts for more than 50% of a property. This is the Property Type - EPA Calculated field from Portfolio Manager.'] \n",
      "_________________\n",
      "\n",
      "PropertyName :\n",
      " ['Official or common property name.'\n",
      " 'Official or common property name as entered in EPA’s Portfolio Manager.'] \n",
      "_________________\n",
      "\n",
      "ZipCode :\n",
      " ['Property zip'] \n",
      "_________________\n",
      "\n",
      "TaxParcelIdentificationNumber :\n",
      " ['\\t\\nProperty King County PIN' 'Property King County PIN '] \n",
      "_________________\n",
      "\n",
      "CouncilDistrictCode :\n",
      " ['Property City of Seattle council district.'] \n",
      "_________________\n",
      "\n",
      "Neighborhood :\n",
      " [None\n",
      " 'Property neighborhood area defined by the City of Seattle Department of Neighborhoods.'] \n",
      "_________________\n",
      "\n",
      "Latitude :\n",
      " ['Property latitude.'] \n",
      "_________________\n",
      "\n",
      "Longitude :\n",
      " ['Property longitude.'] \n",
      "_________________\n",
      "\n",
      "YearBuilt :\n",
      " ['Year in which a property was constructed or underwent a complete renovation.'] \n",
      "_________________\n",
      "\n",
      "NumberofBuildings :\n",
      " [None\n",
      " \"Number of buildings included in the property's report. In cases where a property is reporting as a campus, multiple buildings may be included in one report.\"] \n",
      "_________________\n",
      "\n",
      "NumberofFloors :\n",
      " [None 'Number of floors reported in Portfolio Manager'] \n",
      "_________________\n",
      "\n",
      "PropertyGFATotal :\n",
      " ['Total building and parking gross floor area.'] \n",
      "_________________\n",
      "\n",
      "PropertyGFAParking :\n",
      " ['Total space in square feet of all types of parking (Fully Enclosed, Partially Enclosed, and Open).'] \n",
      "_________________\n",
      "\n",
      "PropertyGFABuilding(s) :\n",
      " ['Total floor space in square feet between the outside surfaces of a building’s enclosing walls. This includes all areas inside the building(s), such as tenant space, common areas, stairwells, basements, storage, etc.'\n",
      " 'Total floor space in square feet between the outside surfaces of a building’s enclosing walls. This includes all areas inside the building(s), such as tenant space, common areas, stairwells, basements, storage, etc. '] \n",
      "_________________\n",
      "\n",
      "ListOfAllPropertyUseTypes :\n",
      " [None 'All property uses reported in Portfolio Manager'] \n",
      "_________________\n",
      "\n",
      "LargestPropertyUseType :\n",
      " [None 'The largest use of a property (e.g. office, retail store) by GFA. '] \n",
      "_________________\n",
      "\n",
      "LargestPropertyUseTypeGFA :\n",
      " [None 'The gross floor area (GFA) of the largest use of the property.'] \n",
      "_________________\n",
      "\n",
      "SecondLargestPropertyUseType :\n",
      " [None\n",
      " 'The second largest use of a property (e.g. office, retail store) by GFA. '] \n",
      "_________________\n",
      "\n",
      "SecondLargestPropertyUseTypeGFA :\n",
      " [None\n",
      " 'The gross floor area (GFA) of the second largest use of the property.'] \n",
      "_________________\n",
      "\n",
      "ThirdLargestPropertyUseType :\n",
      " [None\n",
      " 'The third largest use of a property (e.g. office, retail store) by GFA. '] \n",
      "_________________\n",
      "\n",
      "ThirdLargestPropertyUseTypeGFA :\n",
      " [None\n",
      " 'The gross floor area (GFA) of the third largest use of the property.'] \n",
      "_________________\n",
      "\n",
      "YearsENERGYSTARCertified :\n",
      " [None 'Years the property has received ENERGY STAR certification.'] \n",
      "_________________\n",
      "\n",
      "ENERGYSTARScore :\n",
      " ['An EPA calculated 1-100 rating that assesses a property’s overall energy performance, based on national data to control for differences among climate, building uses, and operations. A score of 50 represents the national median.'] \n",
      "_________________\n",
      "\n",
      "SiteEUI(kBtu/sf) :\n",
      " [\"Site Energy Use Intensity (EUI) is a property's Site Energy Use divided by its gross floor area. Site Energy Use is the annual amount of all the energy consumed by the property on-site, as reported on utility bills. Site EUI is measured in thousands of British thermal units (kBtu) per square foot.\"] \n",
      "_________________\n",
      "\n",
      "SiteEUIWN(kBtu/sf) :\n",
      " [\"\\t\\nWeather Normalized (WN) Site Energy Use Intensity (EUI) is a property's WN Site Energy divided by its gross floor area (in square feet). WN Site Energy is the Site Energy Use the property would have consumed during 30-year average weather conditions. WN Site EUI is measured in measured in thousands of British thermal units (kBtu) per square foot.\"\n",
      " \"Weather Normalized (WN) Site Energy Use Intensity (EUI) is a property's WN Site Energy divided by its gross floor area (in square feet). WN Site Energy is the Site Energy Use the property would have consumed during 30-year average weather conditions. WN Site EUI is measured in measured in thousands of British thermal units (kBtu) per square foot.\"] \n",
      "_________________\n",
      "\n",
      "SourceEUI(kBtu/sf) :\n",
      " [\"Source Energy Use Intensity (EUI) is a property's Source Energy Use divided by its gross floor area. Source Energy Use is the annual energy used to operate the property, including losses from generation, transmission, & distribution. Source EUI is measured in thousands of British thermal units (kBtu) per square foot.\"] \n",
      "_________________\n",
      "\n",
      "SourceEUIWN(kBtu/sf) :\n",
      " [\"Weather Normalized (WN) Source Energy Use Intensity (EUI) is a property's WN Source Energy divided by its gross floor area. WN Source Energy is the Source Energy Use the property would have consumed during 30-year average weather conditions. WN Source EUI is measured in measured in thousands of British thermal units (kBtu) per square foot.\"] \n",
      "_________________\n",
      "\n",
      "SiteEnergyUse(kBtu) :\n",
      " ['\\t\\nThe annual amount of energy consumed by the property from all sources of energy.'\n",
      " 'The annual amount of energy consumed by the property from all sources of energy.'] \n",
      "_________________\n",
      "\n",
      "SiteEnergyUseWN(kBtu) :\n",
      " [None\n",
      " 'The annual amount of energy consumed by the property from all sources of energy, adjusted to what the property would have consumed during 30-year average weather conditions.'] \n",
      "_________________\n",
      "\n",
      "SteamUse(kBtu) :\n",
      " ['The annual amount of district steam consumed by the property on-site, measured in thousands of British thermal units (kBtu).'] \n",
      "_________________\n",
      "\n",
      "Electricity(kWh) :\n",
      " ['\\t\\nThe annual amount of electricity consumed by the property on-site, including electricity purchased from the grid and generated by onsite renewable systems, measured in kWh.'\n",
      " 'The annual amount of electricity consumed by the property on-site, including electricity purchased from the grid and generated by onsite renewable systems, measured in kWh. '] \n",
      "_________________\n",
      "\n",
      "Electricity(kBtu) :\n",
      " ['\\t\\nThe annual amount of electricity consumed by the property on-site, including electricity purchased from the grid and generated by onsite renewable systems, measured in thousands of British thermal units (kBtu).'\n",
      " 'The annual amount of electricity consumed by the property on-site, including electricity purchased from the grid and generated by onsite renewable systems, measured in thousands of British thermal units (kBtu).'] \n",
      "_________________\n",
      "\n",
      "NaturalGas(therms) :\n",
      " ['The annual amount of utility-supplied natural gas consumed by the property, measured in therms.'] \n",
      "_________________\n",
      "\n",
      "NaturalGas(kBtu) :\n",
      " [None\n",
      " 'The annual amount of utility-supplied natural gas consumed by the property, measured in thousands of British thermal units (kBtu).'] \n",
      "_________________\n",
      "\n",
      "DefaultData :\n",
      " [None\n",
      " 'The property used default data for at least one property characteristic.'] \n",
      "_________________\n",
      "\n",
      "ComplianceStatus :\n",
      " [None\n",
      " 'Whether a property has met energy benchmarking requirements for the current reporting year. '] \n",
      "_________________\n",
      "\n",
      "Outlier :\n",
      " [None 'Whether a property is a high or low outlier (Y/N)'] \n",
      "_________________\n",
      "\n",
      "TotalGHGEmissions :\n",
      " [\"The total amount of greenhouse gas emissions, including carbon dioxide, methane, and nitrous oxide gases released into the atmosphere as a result of energy consumption at the property, measured in metric tons of carbon dioxide equivalent. This calculation uses a GHG emissions factor from Seattle CIty Light's portfolio of generating resources. This uses Seattle City Light's 2015 emissions factor of 52.44 lbs CO2e/MWh until the 2016 factor is available. Enwave steam factor = 170.17 lbs CO2e/MMBtu. Gas factor sourced from EPA Portfolio Manager = 53.11 kg CO2e/MBtu. \"] \n",
      "_________________\n",
      "\n",
      "GHGEmissionsIntensity :\n",
      " [\"Total Greenhouse Gas Emissions divided by property's gross floor area, measured in kilograms of carbon dioxide equivalent per square foot. This calculation uses a GHG emissions factor from Seattle City Light's portfolio of generating resources\"] \n",
      "_________________\n",
      "\n",
      "numVoie :\n",
      " [] \n",
      "_________________\n",
      "\n",
      "Voie :\n",
      " [] \n",
      "_________________\n",
      "\n"
     ]
    }
   ],
   "source": [
    "for name in data.columns:\n",
    "    get_description(name)"
   ]
  },
  {
   "cell_type": "markdown",
   "id": "0402f037-a919-4c66-9575-0a9c769ac391",
   "metadata": {},
   "source": [
    "### Suppression des colonnes superflues\n",
    "Nous cherchons à prédire la consomation énergétique et les émissions de CO2 \n",
    "* L'objectif étant de fournir une méthode plus simple que les relevés énergétiques, nous ne prenons pas en compte ces derniers.\n",
    "* Nous supprimons également les colonnes contenant des identifiants uniques, et des métadonnées de récolte"
   ]
  },
  {
   "cell_type": "code",
   "execution_count": 54,
   "id": "5c946235-eae1-405b-b35b-0cc8bab6743b",
   "metadata": {},
   "outputs": [],
   "source": [
    "data = data.drop(['SourceEUI(kBtu/sf)',\n",
    "                  'SteamUse(kBtu)',\n",
    "                  'Electricity(kWh)',\n",
    "                  'Electricity(kBtu)', \n",
    "                  'NaturalGas(therms)', \n",
    "                  'NaturalGas(kBtu)',\n",
    "                  'SourceEUIWN(kBtu/sf)', \n",
    "                  'GHGEmissionsIntensity', \n",
    "                  'SiteEUI(kBtu/sf)',\n",
    "                  'SiteEUIWN(kBtu/sf)', \n",
    "                  'SiteEnergyUseWN(kBtu)',\n",
    "                  'ComplianceStatus',\n",
    "                  'DefaultData',\n",
    "                  'OSEBuildingID',\n",
    "                  'DataYear',\n",
    "                  'TaxParcelIdentificationNumber',\n",
    "                  'PropertyName',\n",
    "                  'ListOfAllPropertyUseTypes'],axis=1)"
   ]
  },
  {
   "cell_type": "markdown",
   "id": "7cd7d0e5-2461-4cf9-a832-18f16cc50bca",
   "metadata": {},
   "source": [
    "### Valeurs manquantes\n",
    "Nous supprimons les colonnes et lignes contenant trop de valeurs manquantes."
   ]
  },
  {
   "cell_type": "code",
   "execution_count": 55,
   "id": "2d4bfe89-ca3d-406a-85f3-1604b3e8bba8",
   "metadata": {},
   "outputs": [],
   "source": [
    "# cette fonction donne un pourcentage de valeur manquantes sur l'ensemble du dataframe\n",
    "def taux_na(dataframe,value=False):\n",
    "    values = dataframe.isna().values.ravel()\n",
    "    taux = round((values.sum() / len(values))*100,2)\n",
    "    if value == False : # par défaut sous la forme d'une phrase\n",
    "        return(f'Il y a environ {taux} % de valeurs manquantes dans le dataframe.')\n",
    "    elif value == True: # mais peut renvoyer seulement le pourcentage\n",
    "        return taux\n",
    "\n",
    "# cette fonction renvoie un classement des colonnes les plus vides \n",
    "def taux_na_colonnes(dataframe):\n",
    "    colsum = dataframe.isna().sum()\n",
    "    colonnes = colsum.index\n",
    "    valeurs = colsum.values\n",
    "    pourcentage = np.round(((valeurs / dataframe.shape[0])*100),2)\n",
    "    data_item = {'colonnes':colonnes,'taux NAN':valeurs,'pourcentage de NAN':pourcentage}\n",
    "    return pd.DataFrame(data_item).sort_values(by='pourcentage de NAN',ascending=False)\n",
    "# Cette fonction permet de visualiser un tableau dans son ensemble avec les zones contenant des données         \n",
    "def plot_na(dataframe,size=(20,10)):\n",
    "    plt.figure(figsize=size)\n",
    "    sns.heatmap(dataframe.isna(),cbar=False);"
   ]
  },
  {
   "cell_type": "code",
   "execution_count": 56,
   "id": "bfee2f28-ee33-4af9-834b-3298093c8962",
   "metadata": {},
   "outputs": [
    {
     "data": {
      "text/plain": [
       "'Il y a environ 18.4 % de valeurs manquantes dans le dataframe.'"
      ]
     },
     "execution_count": 56,
     "metadata": {},
     "output_type": "execute_result"
    }
   ],
   "source": [
    "taux_na(data)"
   ]
  },
  {
   "cell_type": "markdown",
   "id": "307fd157-a50e-4a19-887c-ba1cbe5c04b1",
   "metadata": {},
   "source": [
    "#### Valeurs aberrantes."
   ]
  },
  {
   "cell_type": "code",
   "execution_count": 57,
   "id": "585b7a7e-4232-4310-b338-9793999f13ba",
   "metadata": {},
   "outputs": [
    {
     "data": {
      "text/plain": [
       "Int64Index([304, 746], dtype='int64')"
      ]
     },
     "execution_count": 57,
     "metadata": {},
     "output_type": "execute_result"
    }
   ],
   "source": [
    "data['SiteEnergyUse(kBtu)'][data['SiteEnergyUse(kBtu)'] == 0].index"
   ]
  },
  {
   "cell_type": "markdown",
   "id": "9e665f7f-4203-48e0-9e65-b66d05e8e2fa",
   "metadata": {},
   "source": [
    "Deux batiments affichent n'avoir consommé aucune énergie."
   ]
  },
  {
   "cell_type": "code",
   "execution_count": 58,
   "id": "60df7d92-823d-4a70-a774-4459e77dd324",
   "metadata": {},
   "outputs": [],
   "source": [
    "data = data.drop(data['SiteEnergyUse(kBtu)'][data['SiteEnergyUse(kBtu)'] == 0].index,axis=0)"
   ]
  },
  {
   "cell_type": "markdown",
   "id": "cc4af798-2488-4ab9-bff9-07f4109043df",
   "metadata": {},
   "source": [
    "#### Suppression des colonnes trop vides."
   ]
  },
  {
   "cell_type": "code",
   "execution_count": 59,
   "id": "191381c4-6f57-4930-b09f-8a9f6506992c",
   "metadata": {},
   "outputs": [
    {
     "data": {
      "text/html": [
       "<div>\n",
       "<style scoped>\n",
       "    .dataframe tbody tr th:only-of-type {\n",
       "        vertical-align: middle;\n",
       "    }\n",
       "\n",
       "    .dataframe tbody tr th {\n",
       "        vertical-align: top;\n",
       "    }\n",
       "\n",
       "    .dataframe thead th {\n",
       "        text-align: right;\n",
       "    }\n",
       "</style>\n",
       "<table border=\"1\" class=\"dataframe\">\n",
       "  <thead>\n",
       "    <tr style=\"text-align: right;\">\n",
       "      <th></th>\n",
       "      <th>colonnes</th>\n",
       "      <th>taux NAN</th>\n",
       "      <th>pourcentage de NAN</th>\n",
       "    </tr>\n",
       "  </thead>\n",
       "  <tbody>\n",
       "    <tr>\n",
       "      <th>22</th>\n",
       "      <td>Outlier</td>\n",
       "      <td>1555</td>\n",
       "      <td>98.86</td>\n",
       "    </tr>\n",
       "    <tr>\n",
       "      <th>19</th>\n",
       "      <td>YearsENERGYSTARCertified</td>\n",
       "      <td>1481</td>\n",
       "      <td>94.15</td>\n",
       "    </tr>\n",
       "    <tr>\n",
       "      <th>18</th>\n",
       "      <td>ThirdLargestPropertyUseTypeGFA</td>\n",
       "      <td>1225</td>\n",
       "      <td>77.88</td>\n",
       "    </tr>\n",
       "    <tr>\n",
       "      <th>17</th>\n",
       "      <td>ThirdLargestPropertyUseType</td>\n",
       "      <td>1225</td>\n",
       "      <td>77.88</td>\n",
       "    </tr>\n",
       "    <tr>\n",
       "      <th>16</th>\n",
       "      <td>SecondLargestPropertyUseTypeGFA</td>\n",
       "      <td>721</td>\n",
       "      <td>45.84</td>\n",
       "    </tr>\n",
       "    <tr>\n",
       "      <th>15</th>\n",
       "      <td>SecondLargestPropertyUseType</td>\n",
       "      <td>721</td>\n",
       "      <td>45.84</td>\n",
       "    </tr>\n",
       "    <tr>\n",
       "      <th>20</th>\n",
       "      <td>ENERGYSTARScore</td>\n",
       "      <td>549</td>\n",
       "      <td>34.90</td>\n",
       "    </tr>\n",
       "    <tr>\n",
       "      <th>2</th>\n",
       "      <td>ZipCode</td>\n",
       "      <td>16</td>\n",
       "      <td>1.02</td>\n",
       "    </tr>\n",
       "    <tr>\n",
       "      <th>13</th>\n",
       "      <td>LargestPropertyUseType</td>\n",
       "      <td>12</td>\n",
       "      <td>0.76</td>\n",
       "    </tr>\n",
       "    <tr>\n",
       "      <th>14</th>\n",
       "      <td>LargestPropertyUseTypeGFA</td>\n",
       "      <td>12</td>\n",
       "      <td>0.76</td>\n",
       "    </tr>\n",
       "  </tbody>\n",
       "</table>\n",
       "</div>"
      ],
      "text/plain": [
       "                           colonnes  taux NAN  pourcentage de NAN\n",
       "22                          Outlier      1555               98.86\n",
       "19         YearsENERGYSTARCertified      1481               94.15\n",
       "18   ThirdLargestPropertyUseTypeGFA      1225               77.88\n",
       "17      ThirdLargestPropertyUseType      1225               77.88\n",
       "16  SecondLargestPropertyUseTypeGFA       721               45.84\n",
       "15     SecondLargestPropertyUseType       721               45.84\n",
       "20                  ENERGYSTARScore       549               34.90\n",
       "2                           ZipCode        16                1.02\n",
       "13           LargestPropertyUseType        12                0.76\n",
       "14        LargestPropertyUseTypeGFA        12                0.76"
      ]
     },
     "execution_count": 59,
     "metadata": {},
     "output_type": "execute_result"
    }
   ],
   "source": [
    "dataNaN = taux_na_colonnes(data)\n",
    "dataNaN.head(10)"
   ]
  },
  {
   "cell_type": "code",
   "execution_count": 60,
   "id": "49c15b12-7f50-4b4d-b39a-b09225469be6",
   "metadata": {},
   "outputs": [],
   "source": [
    "# L'energy star score est central à notre problématique,nous définissons notre seuil de NaN de manière à l'inclure.\n",
    "dataNaN = dataNaN[dataNaN['pourcentage de NAN'] < 35] \n",
    "notSparseColumns = dataNaN['colonnes'].values\n",
    "data = data.loc[:,notSparseColumns]"
   ]
  },
  {
   "cell_type": "markdown",
   "id": "4e687e85-2542-43ad-82a3-7575d521a6ff",
   "metadata": {},
   "source": [
    "#### Suppression des lignes trop vides.\n",
    "* nous autorisons seulement l'energystarscore à avoir des valeurs manquantes car il sera traité à part des autres données dans ce projet."
   ]
  },
  {
   "cell_type": "code",
   "execution_count": 61,
   "id": "5ee57600-a435-46fd-bdc5-9d5684615451",
   "metadata": {},
   "outputs": [],
   "source": [
    "# On crée une liste qui contient tous les noms de colonnes à part l'energystarscore \n",
    "drop_na_list = list(data.columns)\n",
    "drop_na_list.remove('ENERGYSTARScore')"
   ]
  },
  {
   "cell_type": "code",
   "execution_count": 62,
   "id": "7b4a05ec-e75d-47db-a45c-98e350f94b71",
   "metadata": {},
   "outputs": [],
   "source": [
    "# On utilise cette liste pour faire un subset sur la fonction dropna\n",
    "# et se baser sur toutes les autres colonnes dans le traitement des valeurs manquantes\n",
    "data = data.dropna(subset=drop_na_list)"
   ]
  },
  {
   "cell_type": "code",
   "execution_count": 63,
   "id": "28a2a191-2f44-4838-8796-8a22ad0f25d1",
   "metadata": {},
   "outputs": [
    {
     "data": {
      "image/png": "[encoded data removed]",
      "text/plain": [
       "<Figure size 1440x720 with 1 Axes>"
      ]
     },
     "metadata": {
      "needs_background": "light"
     },
     "output_type": "display_data"
    }
   ],
   "source": [
    "plot_na(data)"
   ]
  },
  {
   "cell_type": "code",
   "execution_count": 64,
   "id": "c5e70fee-a676-4e1b-b1f1-f7af203f5f2d",
   "metadata": {},
   "outputs": [
    {
     "data": {
      "text/html": [
       "<div>\n",
       "<style scoped>\n",
       "    .dataframe tbody tr th:only-of-type {\n",
       "        vertical-align: middle;\n",
       "    }\n",
       "\n",
       "    .dataframe tbody tr th {\n",
       "        vertical-align: top;\n",
       "    }\n",
       "\n",
       "    .dataframe thead th {\n",
       "        text-align: right;\n",
       "    }\n",
       "</style>\n",
       "<table border=\"1\" class=\"dataframe\">\n",
       "  <thead>\n",
       "    <tr style=\"text-align: right;\">\n",
       "      <th></th>\n",
       "      <th>colonnes</th>\n",
       "      <th>taux NAN</th>\n",
       "      <th>pourcentage de NAN</th>\n",
       "    </tr>\n",
       "  </thead>\n",
       "  <tbody>\n",
       "    <tr>\n",
       "      <th>0</th>\n",
       "      <td>ENERGYSTARScore</td>\n",
       "      <td>529</td>\n",
       "      <td>34.24</td>\n",
       "    </tr>\n",
       "    <tr>\n",
       "      <th>1</th>\n",
       "      <td>ZipCode</td>\n",
       "      <td>0</td>\n",
       "      <td>0.00</td>\n",
       "    </tr>\n",
       "    <tr>\n",
       "      <th>18</th>\n",
       "      <td>CouncilDistrictCode</td>\n",
       "      <td>0</td>\n",
       "      <td>0.00</td>\n",
       "    </tr>\n",
       "    <tr>\n",
       "      <th>17</th>\n",
       "      <td>Neighborhood</td>\n",
       "      <td>0</td>\n",
       "      <td>0.00</td>\n",
       "    </tr>\n",
       "    <tr>\n",
       "      <th>16</th>\n",
       "      <td>Latitude</td>\n",
       "      <td>0</td>\n",
       "      <td>0.00</td>\n",
       "    </tr>\n",
       "  </tbody>\n",
       "</table>\n",
       "</div>"
      ],
      "text/plain": [
       "               colonnes  taux NAN  pourcentage de NAN\n",
       "0       ENERGYSTARScore       529               34.24\n",
       "1               ZipCode         0                0.00\n",
       "18  CouncilDistrictCode         0                0.00\n",
       "17         Neighborhood         0                0.00\n",
       "16             Latitude         0                0.00"
      ]
     },
     "execution_count": 64,
     "metadata": {},
     "output_type": "execute_result"
    }
   ],
   "source": [
    "taux_na_colonnes(data).head()"
   ]
  },
  {
   "cell_type": "markdown",
   "id": "19fe9fc2-51e7-425b-8577-12dbb4a39219",
   "metadata": {},
   "source": [
    "Mis à part l'energy star score, nous avons maintenant un jeu de données sans valeurs manquantes."
   ]
  },
  {
   "cell_type": "markdown",
   "id": "07428bda-5c06-4cb5-bbd2-05b65caeb0c6",
   "metadata": {},
   "source": [
    "### Suppression des valeurs dupliquées"
   ]
  },
  {
   "cell_type": "code",
   "execution_count": 65,
   "id": "ebe928f8-0c24-4a94-8ad4-f04b5843696b",
   "metadata": {},
   "outputs": [],
   "source": [
    "def remove_duplicate(data):\n",
    "    before = data.shape[0]\n",
    "    data.drop_duplicates(inplace=True)\n",
    "    after = data.shape[0]\n",
    "    removed = before - after\n",
    "    print(f'{removed} lignes ont été supprimées.')"
   ]
  },
  {
   "cell_type": "code",
   "execution_count": 66,
   "id": "0e1f9585-4175-4b40-8c6b-6a15a519d531",
   "metadata": {},
   "outputs": [
    {
     "name": "stdout",
     "output_type": "stream",
     "text": [
      "0 lignes ont été supprimées.\n"
     ]
    }
   ],
   "source": [
    "remove_duplicate(data)"
   ]
  },
  {
   "cell_type": "code",
   "execution_count": 67,
   "id": "09633650-c803-45e5-a8db-2276bb6095a3",
   "metadata": {},
   "outputs": [
    {
     "data": {
      "text/plain": [
       "(1545, 20)"
      ]
     },
     "execution_count": 67,
     "metadata": {},
     "output_type": "execute_result"
    }
   ],
   "source": [
    "data.shape"
   ]
  },
  {
   "cell_type": "code",
   "execution_count": 68,
   "id": "70ba83ef-ac7c-4cf3-8547-a0df5a27f39d",
   "metadata": {},
   "outputs": [
    {
     "data": {
      "text/html": [
       "<div>\n",
       "<style scoped>\n",
       "    .dataframe tbody tr th:only-of-type {\n",
       "        vertical-align: middle;\n",
       "    }\n",
       "\n",
       "    .dataframe tbody tr th {\n",
       "        vertical-align: top;\n",
       "    }\n",
       "\n",
       "    .dataframe thead th {\n",
       "        text-align: right;\n",
       "    }\n",
       "</style>\n",
       "<table border=\"1\" class=\"dataframe\">\n",
       "  <thead>\n",
       "    <tr style=\"text-align: right;\">\n",
       "      <th></th>\n",
       "      <th>ENERGYSTARScore</th>\n",
       "      <th>ZipCode</th>\n",
       "      <th>LargestPropertyUseType</th>\n",
       "      <th>LargestPropertyUseTypeGFA</th>\n",
       "      <th>TotalGHGEmissions</th>\n",
       "      <th>SiteEnergyUse(kBtu)</th>\n",
       "      <th>NumberofBuildings</th>\n",
       "      <th>numVoie</th>\n",
       "      <th>BuildingType</th>\n",
       "      <th>PrimaryPropertyType</th>\n",
       "      <th>PropertyGFABuilding(s)</th>\n",
       "      <th>PropertyGFAParking</th>\n",
       "      <th>PropertyGFATotal</th>\n",
       "      <th>NumberofFloors</th>\n",
       "      <th>YearBuilt</th>\n",
       "      <th>Longitude</th>\n",
       "      <th>Latitude</th>\n",
       "      <th>Neighborhood</th>\n",
       "      <th>CouncilDistrictCode</th>\n",
       "      <th>Voie</th>\n",
       "    </tr>\n",
       "  </thead>\n",
       "  <tbody>\n",
       "    <tr>\n",
       "      <th>3065</th>\n",
       "      <td>1.0</td>\n",
       "      <td>98108.0</td>\n",
       "      <td>Distribution Center</td>\n",
       "      <td>28320.0</td>\n",
       "      <td>67.96</td>\n",
       "      <td>4236396.50</td>\n",
       "      <td>1.0</td>\n",
       "      <td>601</td>\n",
       "      <td>NonResidential</td>\n",
       "      <td>Distribution Center</td>\n",
       "      <td>28320</td>\n",
       "      <td>0</td>\n",
       "      <td>28320</td>\n",
       "      <td>1.0</td>\n",
       "      <td>1971</td>\n",
       "      <td>-122.32603</td>\n",
       "      <td>47.56160</td>\n",
       "      <td>GREATER DUWAMISH</td>\n",
       "      <td>2</td>\n",
       "      <td>S. Snoqualmie Street</td>\n",
       "    </tr>\n",
       "    <tr>\n",
       "      <th>1021</th>\n",
       "      <td>NaN</td>\n",
       "      <td>98144.0</td>\n",
       "      <td>Distribution Center</td>\n",
       "      <td>20736.0</td>\n",
       "      <td>13.02</td>\n",
       "      <td>433871.00</td>\n",
       "      <td>1.0</td>\n",
       "      <td>1911</td>\n",
       "      <td>NonResidential</td>\n",
       "      <td>Distribution Center</td>\n",
       "      <td>23236</td>\n",
       "      <td>0</td>\n",
       "      <td>23236</td>\n",
       "      <td>1.0</td>\n",
       "      <td>1954</td>\n",
       "      <td>-122.30445</td>\n",
       "      <td>47.58607</td>\n",
       "      <td>GREATER DUWAMISH</td>\n",
       "      <td>2</td>\n",
       "      <td>22nd Avenue S</td>\n",
       "    </tr>\n",
       "    <tr>\n",
       "      <th>43</th>\n",
       "      <td>67.0</td>\n",
       "      <td>98101.0</td>\n",
       "      <td>Hotel</td>\n",
       "      <td>348630.0</td>\n",
       "      <td>295.33</td>\n",
       "      <td>16163194.00</td>\n",
       "      <td>1.0</td>\n",
       "      <td>1301</td>\n",
       "      <td>NonResidential</td>\n",
       "      <td>Hotel</td>\n",
       "      <td>126240</td>\n",
       "      <td>205970</td>\n",
       "      <td>332210</td>\n",
       "      <td>24.0</td>\n",
       "      <td>1969</td>\n",
       "      <td>-122.33337</td>\n",
       "      <td>47.60946</td>\n",
       "      <td>DOWNTOWN</td>\n",
       "      <td>7</td>\n",
       "      <td>Sixth Ave</td>\n",
       "    </tr>\n",
       "    <tr>\n",
       "      <th>2150</th>\n",
       "      <td>NaN</td>\n",
       "      <td>98106.0</td>\n",
       "      <td>Other</td>\n",
       "      <td>28303.0</td>\n",
       "      <td>92.70</td>\n",
       "      <td>3494929.50</td>\n",
       "      <td>1.0</td>\n",
       "      <td>2300</td>\n",
       "      <td>Nonresidential COS</td>\n",
       "      <td>Other</td>\n",
       "      <td>28531</td>\n",
       "      <td>0</td>\n",
       "      <td>28531</td>\n",
       "      <td>2.0</td>\n",
       "      <td>2002</td>\n",
       "      <td>-122.36205</td>\n",
       "      <td>47.53578</td>\n",
       "      <td>DELRIDGE</td>\n",
       "      <td>1</td>\n",
       "      <td>SW Webster St</td>\n",
       "    </tr>\n",
       "    <tr>\n",
       "      <th>2248</th>\n",
       "      <td>NaN</td>\n",
       "      <td>98134.0</td>\n",
       "      <td>Other</td>\n",
       "      <td>10471.0</td>\n",
       "      <td>44.68</td>\n",
       "      <td>1331469.75</td>\n",
       "      <td>1.0</td>\n",
       "      <td>25</td>\n",
       "      <td>NonResidential</td>\n",
       "      <td>Mixed Use Property</td>\n",
       "      <td>35310</td>\n",
       "      <td>0</td>\n",
       "      <td>35310</td>\n",
       "      <td>1.0</td>\n",
       "      <td>1952</td>\n",
       "      <td>-122.33862</td>\n",
       "      <td>47.57506</td>\n",
       "      <td>GREATER DUWAMISH</td>\n",
       "      <td>2</td>\n",
       "      <td>S Hanford St</td>\n",
       "    </tr>\n",
       "  </tbody>\n",
       "</table>\n",
       "</div>"
      ],
      "text/plain": [
       "      ENERGYSTARScore  ZipCode LargestPropertyUseType  \\\n",
       "3065              1.0  98108.0    Distribution Center   \n",
       "1021              NaN  98144.0    Distribution Center   \n",
       "43               67.0  98101.0                  Hotel   \n",
       "2150              NaN  98106.0                  Other   \n",
       "2248              NaN  98134.0                  Other   \n",
       "\n",
       "      LargestPropertyUseTypeGFA  TotalGHGEmissions  SiteEnergyUse(kBtu)  \\\n",
       "3065                    28320.0              67.96           4236396.50   \n",
       "1021                    20736.0              13.02            433871.00   \n",
       "43                     348630.0             295.33          16163194.00   \n",
       "2150                    28303.0              92.70           3494929.50   \n",
       "2248                    10471.0              44.68           1331469.75   \n",
       "\n",
       "      NumberofBuildings  numVoie        BuildingType  PrimaryPropertyType  \\\n",
       "3065                1.0      601      NonResidential  Distribution Center   \n",
       "1021                1.0     1911      NonResidential  Distribution Center   \n",
       "43                  1.0     1301      NonResidential                Hotel   \n",
       "2150                1.0     2300  Nonresidential COS                Other   \n",
       "2248                1.0       25      NonResidential   Mixed Use Property   \n",
       "\n",
       "      PropertyGFABuilding(s)  PropertyGFAParking  PropertyGFATotal  \\\n",
       "3065                   28320                   0             28320   \n",
       "1021                   23236                   0             23236   \n",
       "43                    126240              205970            332210   \n",
       "2150                   28531                   0             28531   \n",
       "2248                   35310                   0             35310   \n",
       "\n",
       "      NumberofFloors  YearBuilt  Longitude  Latitude      Neighborhood  \\\n",
       "3065             1.0       1971 -122.32603  47.56160  GREATER DUWAMISH   \n",
       "1021             1.0       1954 -122.30445  47.58607  GREATER DUWAMISH   \n",
       "43              24.0       1969 -122.33337  47.60946          DOWNTOWN   \n",
       "2150             2.0       2002 -122.36205  47.53578          DELRIDGE   \n",
       "2248             1.0       1952 -122.33862  47.57506  GREATER DUWAMISH   \n",
       "\n",
       "      CouncilDistrictCode                  Voie  \n",
       "3065                    2  S. Snoqualmie Street  \n",
       "1021                    2         22nd Avenue S  \n",
       "43                      7             Sixth Ave  \n",
       "2150                    1         SW Webster St  \n",
       "2248                    2          S Hanford St  "
      ]
     },
     "execution_count": 68,
     "metadata": {},
     "output_type": "execute_result"
    }
   ],
   "source": [
    "data.sample(5)"
   ]
  },
  {
   "cell_type": "markdown",
   "id": "6c2c9703-cec4-4b95-8fad-5491e346745d",
   "metadata": {},
   "source": [
    "Le travail de préparation est terminé nous écrivons les données sur disque et passons au notebook suivant pour l'analyse."
   ]
  },
  {
   "cell_type": "code",
   "execution_count": 69,
   "id": "9459bf7e-986f-4112-a1c1-d477bd83ceec",
   "metadata": {},
   "outputs": [],
   "source": [
    "data.to_csv('data_seattle_clean.csv',\n",
    "            sep='\\t',\n",
    "            index=False)"
   ]
  }
 ],
 "metadata": {
  "kernelspec": {
   "display_name": "Python 3",
   "language": "python",
   "name": "python3"
  },
  "language_info": {
   "codemirror_mode": {
    "name": "ipython",
    "version": 3
   },
   "file_extension": ".py",
   "mimetype": "text/x-python",
   "name": "python",
   "nbconvert_exporter": "python",
   "pygments_lexer": "ipython3",
   "version": "3.8.8"
  }
 },
 "nbformat": 4,
 "nbformat_minor": 5
}
